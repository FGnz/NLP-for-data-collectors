{
 "cells": [
  {
   "cell_type": "markdown",
   "metadata": {},
   "source": [
    "Like many things, this handbook was born partly of frustration. In my career in data collection I have had the opportunity to work on many data collection and analysis tasks faced by economists, statisticians, survey methodologists, and data collectors of various sorts. What frustrates me is how poorly traditional economic and statistical training has prepared us for the modern world of data collection. Problems like record-matching, webscraping, response coding, and others are often approached as if they are somehow specific to the narrow world of survey methodology and data collection, with new solutions invented from scratch, often at great expense and with poor results. The truth is that all of these are often, at least in part, natural language processing problems, and ones that have been very carefully and far more successfully addressed by those working in computational linguistics and related fields of computer science. \n",
    "\n",
    "That natural language is important to data collectors, should be without question. It is the primary medium by which we communicate. This book, as all books before it, is written entirely in natural language, as is, almost certainly, every other conversation you have had with another person. It is, almost by definition, the most convenient method of communication for all of humanity and the medium in which nearly of all of humanity's knowledge is stored, and yet the modern data collector, attempting to understand and measure the behavior of humans often receives no training in the subject. I suspect most are unaware, as I once was, that it is even a subject of academic study. This is a shame, because the tools of modern natural language processing have extraordinary power to help us understand the world we live in. Already private companies like Google, Amazon, Facebook, and others use it to extraordinary effect. Much of the data collection world however, still remains largely immune to these advances. I believe this is because of an important gap in the training most of us have received.\n",
    "\n",
    "The purpose of this book is to help change this. It is designed to quickly introduce those familiar with traditional data collection and methods to relevant work in natural language processing. I hope it is useful to you, and I hope that if you think of ways to make it better you will share those with me.\n",
    "\n",
    "Alex Measure"
   ]
  }
 ],
 "metadata": {
  "kernelspec": {
   "display_name": "Python 3",
   "language": "python",
   "name": "python3"
  },
  "language_info": {
   "codemirror_mode": {
    "name": "ipython",
    "version": 3
   },
   "file_extension": ".py",
   "mimetype": "text/x-python",
   "name": "python",
   "nbconvert_exporter": "python",
   "pygments_lexer": "ipython3",
   "version": "3.5.3"
  }
 },
 "nbformat": 4,
 "nbformat_minor": 2
}
