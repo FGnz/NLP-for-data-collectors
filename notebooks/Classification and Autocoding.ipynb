{
 "cells": [
  {
   "cell_type": "markdown",
   "metadata": {},
   "source": [
    "# Classification\n",
    "\n",
    "Classification is perhaps the most fundamental information processing task. It consists of converting an input to a discrete set of one or more outputs. We perform classification when we take a job title and assign an occupation code, we perform classification when we look at a survey response and deem it \"acceptable\", or \"error, requiring further follow up\", and we perform classification when we examine two records from different data sets and determine that they describe the \"same\" individual, or \"different\" individuals. Classification tasks are everywhere in data processing.\n",
    "\n",
    "For many tasks automatic classification is easy. We can easily write a computer program that determines whether a reported employment number is within a specified range, whether a required survey response was provided or not, or whether one number is bigger than another. When tasks involve complicated inputs like natural language, imagery, or sound however, this approach is no longer feasible. If you have enough training data however, there is an approach that works well. Supervised Machine Learning. This is the basis for most of commercial \"Artificial Intelligence\" today, and the focus of this handbook."
   ]
  },
  {
   "cell_type": "markdown",
   "metadata": {},
   "source": [
    "# Supervised Machine Learning\n",
    "\n",
    "Building a supervised machine learning system consists of the following steps:\n",
    "1. Gather data containing the relevant inputs to a task and the desired outputs\n",
    "2. Convert the inputs (if necessary), into a format suitable for your learning algorithm\n",
    "3. Use a learning algorithm to \"learn\" from the data\n",
    "4. Evaluate the performance of the system and modify steps 1-4 as needed\n",
    "\n",
    "We illustrate this by building a simple \"Part of Body\" autocoder below."
   ]
  },
  {
   "cell_type": "markdown",
   "metadata": {},
   "source": [
    "## 1. Gather the Data\n",
    "\n",
    "For this example we will use data from the Mining Safety and Health Administration consisting of a narrative, describing an injury to a mining worker, and the part of body injured. Our goal is to create a classifier that can automatically determine which part of body was injured based on the written narrative. We begin, by using the pandas library to read in, and examine an Excel file containing training data."
   ]
  },
  {
   "cell_type": "code",
   "execution_count": 4,
   "metadata": {},
   "outputs": [
    {
     "data": {
      "text/html": [
       "<div>\n",
       "<style>\n",
       "    .dataframe thead tr:only-child th {\n",
       "        text-align: right;\n",
       "    }\n",
       "\n",
       "    .dataframe thead th {\n",
       "        text-align: left;\n",
       "    }\n",
       "\n",
       "    .dataframe tbody tr th {\n",
       "        vertical-align: top;\n",
       "    }\n",
       "</style>\n",
       "<table border=\"1\" class=\"dataframe\">\n",
       "  <thead>\n",
       "    <tr style=\"text-align: right;\">\n",
       "      <th></th>\n",
       "      <th>MINE_ID</th>\n",
       "      <th>INJ_BODY_PART</th>\n",
       "      <th>NARRATIVE</th>\n",
       "    </tr>\n",
       "  </thead>\n",
       "  <tbody>\n",
       "    <tr>\n",
       "      <th>0</th>\n",
       "      <td>2602512</td>\n",
       "      <td>FINGER(S)/THUMB</td>\n",
       "      <td>The employee's finger was pinched between the ...</td>\n",
       "    </tr>\n",
       "    <tr>\n",
       "      <th>1</th>\n",
       "      <td>4201444</td>\n",
       "      <td>FACE,NEC</td>\n",
       "      <td>EE had just clocked in and had sat down on a c...</td>\n",
       "    </tr>\n",
       "    <tr>\n",
       "      <th>2</th>\n",
       "      <td>4609029</td>\n",
       "      <td>HEAD,NEC</td>\n",
       "      <td>The employee received fatal injuries when he w...</td>\n",
       "    </tr>\n",
       "    <tr>\n",
       "      <th>3</th>\n",
       "      <td>200024</td>\n",
       "      <td>FOREARM/ULNAR/RADIUS</td>\n",
       "      <td>Employee was cutting a 1\" piece of pipe secure...</td>\n",
       "    </tr>\n",
       "    <tr>\n",
       "      <th>4</th>\n",
       "      <td>4606578</td>\n",
       "      <td>BACK (MUSCLES/SPINE/S-CORD/TAILBONE)</td>\n",
       "      <td>Employee was injured on 4-11-11. While operati...</td>\n",
       "    </tr>\n",
       "  </tbody>\n",
       "</table>\n",
       "</div>"
      ],
      "text/plain": [
       "   MINE_ID                         INJ_BODY_PART  \\\n",
       "0  2602512                       FINGER(S)/THUMB   \n",
       "1  4201444                              FACE,NEC   \n",
       "2  4609029                              HEAD,NEC   \n",
       "3   200024                  FOREARM/ULNAR/RADIUS   \n",
       "4  4606578  BACK (MUSCLES/SPINE/S-CORD/TAILBONE)   \n",
       "\n",
       "                                           NARRATIVE  \n",
       "0  The employee's finger was pinched between the ...  \n",
       "1  EE had just clocked in and had sat down on a c...  \n",
       "2  The employee received fatal injuries when he w...  \n",
       "3  Employee was cutting a 1\" piece of pipe secure...  \n",
       "4  Employee was injured on 4-11-11. While operati...  "
      ]
     },
     "execution_count": 4,
     "metadata": {},
     "output_type": "execute_result"
    }
   ],
   "source": [
    "import pandas as pd\n",
    "\n",
    "# read the Excel into a dataframe\n",
    "df = pd.read_excel(r\"..\\data\\training_data.xlsx\")\n",
    "# display the first 5 rows of the dataframe\n",
    "df.head()"
   ]
  },
  {
   "cell_type": "markdown",
   "metadata": {},
   "source": [
    "## 2. Convert the Inputs\n",
    "\n",
    "In this example, our input is text but the learning algorithm we will be using requires numeric inputs. We will convert the text to numbers using the \"bag-of-words\" representation, i.e. we will define a vector where each position in that vector corresponds to a word that occurs in our narratives, and we will convert each narrative to this vector by putting the number of times each word occurs in our narrative in the corresponding position of the vector.  "
   ]
  },
  {
   "cell_type": "code",
   "execution_count": 7,
   "metadata": {},
   "outputs": [],
   "source": [
    "from sklearn.feature_extraction.text import CountVectorizer\n",
    "\n",
    "# create a vectorizer object which will map words to vector positions\n",
    "vectorizer = CountVectorizer()\n",
    "# map each word occuring in df['NARRATIVE'] to a vector position\n",
    "vectorizer.fit(df['NARRATIVE'])\n",
    "# transform our narratives into their vector representation\n",
    "bag_of_words_representation = vectorizer.transform(df['NARRATIVE'])"
   ]
  },
  {
   "cell_type": "markdown",
   "metadata": {},
   "source": [
    "## 3. Learn from the Data\n",
    "\n",
    "There are many algorithms for learning from data and the right algorithm depends on the task, but a popular option for text classification tasks like autocoding is LogisticRegression. LogisticRegression assumes the probability of each classification is a function of the weighted sum of the inputs, in this case the word counts from our bag of words representation. LogisticRegression \"learns\" by using the training to data to estimate the weights that will give the best performance. Since there are many possible injured body parts, behind the scenes our program is fitting a separate LogisticRegression model for each possible injured part."
   ]
  },
  {
   "cell_type": "code",
   "execution_count": 9,
   "metadata": {},
   "outputs": [
    {
     "data": {
      "text/plain": [
       "LogisticRegression(C=1.0, class_weight=None, dual=False, fit_intercept=True,\n",
       "          intercept_scaling=1, max_iter=100, multi_class='ovr', n_jobs=1,\n",
       "          penalty='l2', random_state=None, solver='liblinear', tol=0.0001,\n",
       "          verbose=0, warm_start=False)"
      ]
     },
     "execution_count": 9,
     "metadata": {},
     "output_type": "execute_result"
    }
   ],
   "source": [
    "from sklearn.linear_model import LogisticRegression\n",
    "\n",
    "model = LogisticRegression()\n",
    "model.fit(X=bag_of_words_representation, y=df['INJ_BODY_PART'])"
   ]
  },
  {
   "cell_type": "markdown",
   "metadata": {},
   "source": [
    "## 4. Evaluate the Model\n",
    "\n",
    "There are many ways to evaluate the performance of a model but two of the most popular metrics are the accuracy, which is just the portion of classifications correctly assigned, and the macro-F1-score, which can be thought of as an average of the classification specific accuracies. It is very important, when evaluating complex models, to evaluate on data the model was not trained on because complex models can easily memorize the training data without learning patterns that are useful for performing on unseen data."
   ]
  },
  {
   "cell_type": "code",
   "execution_count": 11,
   "metadata": {},
   "outputs": [
    {
     "data": {
      "text/html": [
       "<div>\n",
       "<style>\n",
       "    .dataframe thead tr:only-child th {\n",
       "        text-align: right;\n",
       "    }\n",
       "\n",
       "    .dataframe thead th {\n",
       "        text-align: left;\n",
       "    }\n",
       "\n",
       "    .dataframe tbody tr th {\n",
       "        vertical-align: top;\n",
       "    }\n",
       "</style>\n",
       "<table border=\"1\" class=\"dataframe\">\n",
       "  <thead>\n",
       "    <tr style=\"text-align: right;\">\n",
       "      <th></th>\n",
       "      <th>MINE_ID</th>\n",
       "      <th>INJ_BODY_PART</th>\n",
       "      <th>NARRATIVE</th>\n",
       "    </tr>\n",
       "  </thead>\n",
       "  <tbody>\n",
       "    <tr>\n",
       "      <th>0</th>\n",
       "      <td>3600017</td>\n",
       "      <td>BODY SYSTEMS</td>\n",
       "      <td>Possible heart attack.</td>\n",
       "    </tr>\n",
       "    <tr>\n",
       "      <th>1</th>\n",
       "      <td>3503757</td>\n",
       "      <td>SHOULDERS (COLLARBONE/CLAVICLE/SCAPULA)</td>\n",
       "      <td>Employee was cleaning up plant spillage into a...</td>\n",
       "    </tr>\n",
       "    <tr>\n",
       "      <th>2</th>\n",
       "      <td>1103189</td>\n",
       "      <td>FINGER(S)/THUMB</td>\n",
       "      <td>Employee was putting a drag on a shuttle car, ...</td>\n",
       "    </tr>\n",
       "    <tr>\n",
       "      <th>3</th>\n",
       "      <td>4600016</td>\n",
       "      <td>HAND (NOT WRIST OR FINGERS)</td>\n",
       "      <td>While using a cutting torch to remove a bearin...</td>\n",
       "    </tr>\n",
       "    <tr>\n",
       "      <th>4</th>\n",
       "      <td>3609997</td>\n",
       "      <td>BACK (MUSCLES/SPINE/S-CORD/TAILBONE)</td>\n",
       "      <td>Employee was operating a Cat D400E articulated...</td>\n",
       "    </tr>\n",
       "  </tbody>\n",
       "</table>\n",
       "</div>"
      ],
      "text/plain": [
       "   MINE_ID                            INJ_BODY_PART  \\\n",
       "0  3600017                             BODY SYSTEMS   \n",
       "1  3503757  SHOULDERS (COLLARBONE/CLAVICLE/SCAPULA)   \n",
       "2  1103189                          FINGER(S)/THUMB   \n",
       "3  4600016              HAND (NOT WRIST OR FINGERS)   \n",
       "4  3609997     BACK (MUSCLES/SPINE/S-CORD/TAILBONE)   \n",
       "\n",
       "                                           NARRATIVE  \n",
       "0                             Possible heart attack.  \n",
       "1  Employee was cleaning up plant spillage into a...  \n",
       "2  Employee was putting a drag on a shuttle car, ...  \n",
       "3  While using a cutting torch to remove a bearin...  \n",
       "4  Employee was operating a Cat D400E articulated...  "
      ]
     },
     "execution_count": 11,
     "metadata": {},
     "output_type": "execute_result"
    }
   ],
   "source": [
    "# Read in the data we will evaluate our model against\n",
    "validation_df = pd.read_excel(\"..\\data\\evaluation_data.xlsx\")\n",
    "# Note that the validation data already has part of body codes assigned. We will\n",
    "# assume these are the \"correct\" values when calculating accuracy and macro-f1 score\n",
    "validation_df.head()"
   ]
  },
  {
   "cell_type": "code",
   "execution_count": 13,
   "metadata": {},
   "outputs": [
    {
     "data": {
      "text/html": [
       "<div>\n",
       "<style>\n",
       "    .dataframe thead tr:only-child th {\n",
       "        text-align: right;\n",
       "    }\n",
       "\n",
       "    .dataframe thead th {\n",
       "        text-align: left;\n",
       "    }\n",
       "\n",
       "    .dataframe tbody tr th {\n",
       "        vertical-align: top;\n",
       "    }\n",
       "</style>\n",
       "<table border=\"1\" class=\"dataframe\">\n",
       "  <thead>\n",
       "    <tr style=\"text-align: right;\">\n",
       "      <th></th>\n",
       "      <th>MINE_ID</th>\n",
       "      <th>INJ_BODY_PART</th>\n",
       "      <th>NARRATIVE</th>\n",
       "      <th>Predicted Part</th>\n",
       "    </tr>\n",
       "  </thead>\n",
       "  <tbody>\n",
       "    <tr>\n",
       "      <th>0</th>\n",
       "      <td>3600017</td>\n",
       "      <td>BODY SYSTEMS</td>\n",
       "      <td>Possible heart attack.</td>\n",
       "      <td>BODY SYSTEMS</td>\n",
       "    </tr>\n",
       "    <tr>\n",
       "      <th>1</th>\n",
       "      <td>3503757</td>\n",
       "      <td>SHOULDERS (COLLARBONE/CLAVICLE/SCAPULA)</td>\n",
       "      <td>Employee was cleaning up plant spillage into a...</td>\n",
       "      <td>SHOULDERS (COLLARBONE/CLAVICLE/SCAPULA)</td>\n",
       "    </tr>\n",
       "    <tr>\n",
       "      <th>2</th>\n",
       "      <td>1103189</td>\n",
       "      <td>FINGER(S)/THUMB</td>\n",
       "      <td>Employee was putting a drag on a shuttle car, ...</td>\n",
       "      <td>FINGER(S)/THUMB</td>\n",
       "    </tr>\n",
       "    <tr>\n",
       "      <th>3</th>\n",
       "      <td>4600016</td>\n",
       "      <td>HAND (NOT WRIST OR FINGERS)</td>\n",
       "      <td>While using a cutting torch to remove a bearin...</td>\n",
       "      <td>HAND (NOT WRIST OR FINGERS)</td>\n",
       "    </tr>\n",
       "    <tr>\n",
       "      <th>4</th>\n",
       "      <td>3609997</td>\n",
       "      <td>BACK (MUSCLES/SPINE/S-CORD/TAILBONE)</td>\n",
       "      <td>Employee was operating a Cat D400E articulated...</td>\n",
       "      <td>BACK (MUSCLES/SPINE/S-CORD/TAILBONE)</td>\n",
       "    </tr>\n",
       "  </tbody>\n",
       "</table>\n",
       "</div>"
      ],
      "text/plain": [
       "   MINE_ID                            INJ_BODY_PART  \\\n",
       "0  3600017                             BODY SYSTEMS   \n",
       "1  3503757  SHOULDERS (COLLARBONE/CLAVICLE/SCAPULA)   \n",
       "2  1103189                          FINGER(S)/THUMB   \n",
       "3  4600016              HAND (NOT WRIST OR FINGERS)   \n",
       "4  3609997     BACK (MUSCLES/SPINE/S-CORD/TAILBONE)   \n",
       "\n",
       "                                           NARRATIVE  \\\n",
       "0                             Possible heart attack.   \n",
       "1  Employee was cleaning up plant spillage into a...   \n",
       "2  Employee was putting a drag on a shuttle car, ...   \n",
       "3  While using a cutting torch to remove a bearin...   \n",
       "4  Employee was operating a Cat D400E articulated...   \n",
       "\n",
       "                            Predicted Part  \n",
       "0                             BODY SYSTEMS  \n",
       "1  SHOULDERS (COLLARBONE/CLAVICLE/SCAPULA)  \n",
       "2                          FINGER(S)/THUMB  \n",
       "3              HAND (NOT WRIST OR FINGERS)  \n",
       "4     BACK (MUSCLES/SPINE/S-CORD/TAILBONE)  "
      ]
     },
     "execution_count": 13,
     "metadata": {},
     "output_type": "execute_result"
    }
   ],
   "source": [
    "# convert the validation data into its bag of words representation using our vectorizer\n",
    "validation_bag_of_words = vectorizer.transform(validation_df['NARRATIVE'])\n",
    "# use our model to predict the injured body parts and save these to our dataframe\n",
    "validation_df['Predicted Part'] = model.predict(validation_bag_of_words)\n",
    "validation_df.head()"
   ]
  },
  {
   "cell_type": "code",
   "execution_count": 18,
   "metadata": {},
   "outputs": [
    {
     "name": "stdout",
     "output_type": "stream",
     "text": [
      "accuracy: 0.7426641567932676\n",
      "macro-f1: 0.5105508119093995\n"
     ]
    },
    {
     "name": "stderr",
     "output_type": "stream",
     "text": [
      "C:\\Users\\MEASURE_A\\AppData\\Local\\Continuum\\Anaconda2\\envs\\tf1.2\\lib\\site-packages\\sklearn\\metrics\\classification.py:1135: UndefinedMetricWarning: F-score is ill-defined and being set to 0.0 in labels with no predicted samples.\n",
      "  'precision', 'predicted', average, warn_for)\n"
     ]
    }
   ],
   "source": [
    "# calculate accuracy and macro f1_score\n",
    "from sklearn.metrics import accuracy_score, f1_score\n",
    "\n",
    "print('accuracy:', accuracy_score(y_true=validation_df['INJ_BODY_PART'],\n",
    "                                  y_pred=validation_df['Predicted Part']))\n",
    "print('macro-f1:', f1_score(y_true=validation_df['INJ_BODY_PART'],\n",
    "                            y_pred=validation_df['Predicted Part'],\n",
    "                            average='macro'))"
   ]
  },
  {
   "cell_type": "code",
   "execution_count": null,
   "metadata": {
    "collapsed": true
   },
   "outputs": [],
   "source": []
  }
 ],
 "metadata": {
  "kernelspec": {
   "display_name": "Python 3",
   "language": "python",
   "name": "python3"
  },
  "language_info": {
   "codemirror_mode": {
    "name": "ipython",
    "version": 3
   },
   "file_extension": ".py",
   "mimetype": "text/x-python",
   "name": "python",
   "nbconvert_exporter": "python",
   "pygments_lexer": "ipython3",
   "version": "3.5.3"
  }
 },
 "nbformat": 4,
 "nbformat_minor": 2
}
