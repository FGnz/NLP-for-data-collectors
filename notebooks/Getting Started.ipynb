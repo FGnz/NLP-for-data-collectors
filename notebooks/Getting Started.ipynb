{
 "cells": [
  {
   "cell_type": "markdown",
   "metadata": {},
   "source": [
    "### Why Python?"
   ]
  },
  {
   "cell_type": "markdown",
   "metadata": {},
   "source": [
    "The Python programming language is likely to be an unfamiliar choice for many economists, statisticians, and other \"traditional\" data collectors for whom this book is intended. Why then, are all the examples in this book in Python?\n",
    "\n",
    "I wish I had a concise answer, but alas the relative merits of programming languages is a fairly technical topic. Certainly of the many programming languages I've used, including SAS, R, and Matlab, I have found Python to be by far the easiest to learn and use. It is also true that I have attempted to implement many of the techniques I will discuss in other languages, and found it far easier to do in Python, but this too is subjective, so I will rest my case on less direct evidence. Python is the language that Stanford and MIT and the other top universities are using to teach natural language processing. In the academic papers published in computational linguistics, Python is by far the most popular language mentioned, and Python is the language that industry leading companies like Google, Amazon, and Facebook rely use most extensively for their research and prodcution systems. My preferences for Python are based on my subjective experiences, but I am at least in good company. I think, if you give it a chance, you will find, as I did, that you wish you were introduced to Python far sooner. "
   ]
  },
  {
   "cell_type": "markdown",
   "metadata": {},
   "source": [
    "### Installing Python"
   ]
  },
  {
   "cell_type": "markdown",
   "metadata": {},
   "source": [
    "The easiest way to get started with Python is to install the Anaconda distribution from https://www.anaconda.com/download/. I recommend Python version 3.6 or higher, and unless  your computer is very very old, you will want the 64-bit installer. All of the software is free.\n",
    "\n",
    "The advantage of installing the Python Anaconda distribution is that, in addition to the Python language interpreter itself, the distribution also includes many of the libraries we will use extensively for Natural Language Processing. You can install these libraries separately if you prefer, but it is far easier with Anaconda.\n",
    "\n",
    "Once you have downloaded and installed Anaconda, I recommend launching the Spyder IDE to start your first program. There should be a shortcut to it somewhere in the folder where Anaconda was installed. Although a Python program is just a text file, and so can be edited by any text editor, the Spyder IDE provides highlighting and other handy features which will make it easier to develop you first Python program. "
   ]
  },
  {
   "cell_type": "markdown",
   "metadata": {},
   "source": [
    "### Spyder"
   ]
  },
  {
   "cell_type": "markdown",
   "metadata": {},
   "source": [
    "Spyder is a tool for creating and editing Python programs. If you have installed Anaconda you should be able to find a shortcut to Spyder under `All Programs >> Anaconda >> Spyder`. When you first launch it, you might get several prompts. You can just click \"Ok\" and move on. After the prompts, it should look something like this: \n",
    "\n",
    "<img src=\"..\\images\\spyder_default.png\">"
   ]
  },
  {
   "cell_type": "markdown",
   "metadata": {},
   "source": [
    "On the left we have the **Editor**, which is just a text editor where we can create and edit Python programs. To run the Python program defined in the text editor we just click the green triangle at the top.\n",
    "\n",
    "In the bottom right we have the **Console**. This is where all Python code is executed. You can also write Python code interactively in the console. It is often useful to try out new ideas in the console before putting them in your Python program. \n",
    "\n",
    "In the top right we have a sort of **Helper** box. Perhaps it's most useful feature is the Variable explorer, which shows you the variables currently defined in the console.\n",
    "\n",
    "### First program ###\n",
    "Let's write our first very simple program. All it does is define two variables, x and y, prints out \"Hey, I can add!\", and then prints out x + y. After running the program by clicking the green triangle at the top we should see the following:\n",
    "\n",
    "<img src=\"..\\images\\first_spyder_program.png\">\n"
   ]
  },
  {
   "cell_type": "markdown",
   "metadata": {},
   "source": [
    "All the variables defined by our program now exist in the console, and are also shown in the Variable explorer. We can now examine and interact with these variables in the console. For example, by creating and printing a new variable, z: \n",
    "\n",
    "<img src=\"..\\images\\spyder_console.png\">"
   ]
  },
  {
   "cell_type": "markdown",
   "metadata": {},
   "source": [
    "Finally, of course, we can save our Python program for another day by clicking `File >> Save as`. You should make a habit of saving all your programming in a file somewhere. This provides documentation of what you have done and often serves as a valuable resource in the future when you find you need to do something similar again."
   ]
  },
  {
   "cell_type": "markdown",
   "metadata": {},
   "source": [
    "One last point. Although Spyder comes with built in help tools, often the best resources are online. The standard programming workflow is to have Spyder (or another editor) open in one window and a web browser open to online documentation in one or more additional windows. \n",
    "\n",
    "You will find that virtually every Python or Python-library specific question you encounter has already been answered somewhere on the internet. This should be the first place you look whenever you need Python assistance."
   ]
  },
  {
   "cell_type": "code",
   "execution_count": null,
   "metadata": {
    "collapsed": true
   },
   "outputs": [],
   "source": []
  }
 ],
 "metadata": {
  "kernelspec": {
   "display_name": "Python 3",
   "language": "python",
   "name": "python3"
  },
  "language_info": {
   "codemirror_mode": {
    "name": "ipython",
    "version": 3
   },
   "file_extension": ".py",
   "mimetype": "text/x-python",
   "name": "python",
   "nbconvert_exporter": "python",
   "pygments_lexer": "ipython3",
   "version": "3.5.3"
  }
 },
 "nbformat": 4,
 "nbformat_minor": 2
}
