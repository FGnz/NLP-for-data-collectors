{
 "cells": [
  {
   "cell_type": "markdown",
   "metadata": {},
   "source": [
    "### Why Python?"
   ]
  },
  {
   "cell_type": "markdown",
   "metadata": {},
   "source": [
    "Although Python may not be familiar to many social scientists and statisticians, the examples in this handbook are all written using the Python language. This was not an accident, nor was it a choice of personal convenience. In fact, quite the opposite, I was well versed in a variety of popular programming languages and data tools well before I ever started Python. Instead, this handbook uses Python because for the machine learning and natural language processing techniques that are the focus of this handbook, there is simply nothing that comes close to the capabilities and ease of use provided by Python. This is why top universities like Stanford, MIT, Carnegie Melon and Harvard are teaching their machine learning, language processing, and data science classes in Python, and it is why leading data analysis companies including Google, Facebook, Amazon, and Microsoft are increasingly standardizing their production data analysis tool-set around the Python programming language (see [Tensorflow](https://www.tensorflow.org/), [PyTorch](http://pytorch.org/), [MxNET](https://mxnet.apache.org/), [CNTK](https://github.com/Microsoft/CNTK), and many others).\n",
    "\n",
    "Python's success is driven by many advantages. It is free, it is unusually easy to learn (for a programming language), it is a full and flexible language, and it has a large library of high quality, open source add-ons. Success is also it's own reward, because of its flexibility it is also vastly more widely used than data analysis alternatives like R, SAS, Stata, and SPSS, which means lots of community generated articles, tutorials, and answers to common questions.\n",
    "\n",
    "Learning a new language is always a challenging process, but I think you will find, as I did, that once you learn Python you will wish you learned it long ago.\n",
    "\n",
    "For further motivation, see:\n",
    "* [Python now the most popular introductory language at top universities](https://cacm.acm.org/blogs/blog-cacm/176450-python-is-now-the-most-popular-introductory-teaching-language-at-top-u-s-universities/fulltext)\n",
    "* [The Most Popular Language for Machine Learning and Data Science](https://www.kdnuggets.com/2017/01/most-popular-language-machine-learning-data-science.html)\n",
    "* [The Incredible Growth of Python](https://stackoverflow.blog/2017/09/06/incredible-growth-python/)\n",
    "\n"
   ]
  },
  {
   "cell_type": "markdown",
   "metadata": {},
   "source": [
    "### Installing Python"
   ]
  },
  {
   "cell_type": "markdown",
   "metadata": {},
   "source": [
    "The easiest way to get started with Python is to install the Anaconda distribution from https://www.anaconda.com/download/. I recommend the most recent version of Python (3.6 or higher). Unless  your computer is ancient you will want the 64-bit installer. All of the software is free.\n",
    "\n",
    "The advantage of installing the Python Anaconda distribution is that, in addition to the Python language interpreter itself, you also get many of the libraries we will use extensively, including pandas, numpy, and scikit-learn. You can install these libraries separately if you prefer, but it is much easier to get everything bundled together.\n",
    "\n",
    "Once you have downloaded and installed Anaconda, it's time to start your first program. I will describe the process using the Spyder IDE, which is included Anaconda, but more advanced users should feel free to use whatever development environment you prefer. A Python program is ultimately just a text file so any text editor will do."
   ]
  },
  {
   "cell_type": "markdown",
   "metadata": {},
   "source": [
    "### Introduction to Spyder"
   ]
  },
  {
   "cell_type": "markdown",
   "metadata": {},
   "source": [
    "If you're on Windows and you have already installed Anaconda, you should be able to find a shortcut to Spyder under `All Programs >> Anaconda >> Spyder`. When you first launch it, you might get several prompts. You can just click \"Ok\" and move on. After the prompts, it should look something like this: \n",
    "\n",
    "<img src=\"..\\images\\spyder_default.png\">"
   ]
  },
  {
   "cell_type": "markdown",
   "metadata": {},
   "source": [
    "On the left we have the **Editor**, which is just a smart text editor where we can create and edit Python programs. To run the Python program defined in the text editor we just click the green triangle at the top.\n",
    "\n",
    "In the bottom right we have the **Console**. This is where all Python code is executed. You can also write Python code interactively in the console. It is often useful to try out new ideas in the console before putting them in your Python program. \n",
    "\n",
    "In the top right we have a sort of **Helper** box. Perhaps it's most useful feature is the Variable explorer, which shows you the variables currently defined in the console.\n",
    "\n",
    "### First program ###\n",
    "Let's write our first very simple program. All it does is define two variables, x and y, prints out \"Hey, I can add!\", and then prints out x + y. After running the program by clicking the green triangle at the top we should see the following:\n",
    "\n",
    "<img src=\"..\\images\\first_spyder_program.png\">\n"
   ]
  },
  {
   "cell_type": "markdown",
   "metadata": {},
   "source": [
    "All the variables defined by our program now exist in the console, and are also shown in the Variable explorer. We can now examine and interact with these variables in the console. For example, by creating and printing a new variable, z: \n",
    "\n",
    "<img src=\"..\\images\\spyder_console.png\">"
   ]
  },
  {
   "cell_type": "markdown",
   "metadata": {},
   "source": [
    "Finally, of course, we can save our Python program for another day by clicking `File >> Save as`. You should make a habit of saving all your programming in a file somewhere. This provides documentation of what you have done and often serves as a valuable resource in the future when you find you need to do something similar again."
   ]
  },
  {
   "cell_type": "markdown",
   "metadata": {},
   "source": [
    "One last point. Although Spyder comes with built in help tools, the best resources are online. The standard programming workflow is to have Spyder (or another editor) open in one window and a web browser open to online documentation in one or more additional windows. You will find that virtually every Python question you encounter has already been answered somewhere on the internet. This should be the first place you look whenever you need Python assistance."
   ]
  },
  {
   "cell_type": "code",
   "execution_count": null,
   "metadata": {
    "collapsed": true
   },
   "outputs": [],
   "source": []
  }
 ],
 "metadata": {
  "kernelspec": {
   "display_name": "Python 3",
   "language": "python",
   "name": "python3"
  },
  "language_info": {
   "codemirror_mode": {
    "name": "ipython",
    "version": 3
   },
   "file_extension": ".py",
   "mimetype": "text/x-python",
   "name": "python",
   "nbconvert_exporter": "python",
   "pygments_lexer": "ipython3",
   "version": "3.5.3"
  }
 },
 "nbformat": 4,
 "nbformat_minor": 2
}
