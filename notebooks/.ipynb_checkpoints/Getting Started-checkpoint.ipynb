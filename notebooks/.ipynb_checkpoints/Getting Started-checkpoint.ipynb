{
 "cells": [
  {
   "cell_type": "markdown",
   "metadata": {},
   "source": [
    "### Why Python?"
   ]
  },
  {
   "cell_type": "markdown",
   "metadata": {},
   "source": [
    "The Python programming language is likely to be an unfamiliar choice for many economists, statisticians, and other \"traditional\" data collectors for whom this book is intended. Why then, are all the examples in this book in Python?\n",
    "\n",
    "I wish I had a concise answer, but alas the relative merits of programming languages is a fairly technical topic. Certainly of the many programming languages I've used, including SAS, R, and Matlab, I have found Python to be by far the easiest to learn and use. It is also true that I have attempted to implement many of the techniques I will discuss in other languages, and found it far easier to do in Python, but this too is subjective, so I will rest my case on less direct evidence. Python is the language that Stanford and MIT and the other top universities are using to teach natural language processing. In the academic papers published in computational linguistics, Python is by far the most popular language mentioned, and Python is the language that industry leading companies like Google, Amazon, and Facebook rely use most extensively for their research and prodcution systems. My preferences for Python are based on my subjective experiences, but I am at least in good company. I think, if you give it a chance, you will find, as I did, that you wish you were introduced to Python far sooner. "
   ]
  },
  {
   "cell_type": "markdown",
   "metadata": {},
   "source": [
    "### Installing Python"
   ]
  },
  {
   "cell_type": "markdown",
   "metadata": {},
   "source": [
    "The easiest way to get started with Python is to install the Anaconda distribution from https://www.anaconda.com/download/. I recommend Python version 3.6 or higher, and unless  your computer is very very old, you will want the 64-bit installer. All of the software is free.\n",
    "\n",
    "The advantage of installing the Python Anaconda distribution is that, in addition to the Python language interpreter itself, the distribution also includes many of the libraries we will use extensively for Natural Language Processing. You can install these libraries separately if you prefer, but it is far easier with Anaconda.\n",
    "\n",
    "Once you have downloaded and installed Anaconda, I recommend launching the Spyder IDE to start your first program. There should be a shortcut to it somewhere in the folder where Anaconda was installed. Although a Python program is just a text file, and so can be edited by any text editor, the Spyder IDE provides highlighting and other handy features which will make it easier to develop you first Python program. "
   ]
  }
 ],
 "metadata": {
  "kernelspec": {
   "display_name": "Python 3",
   "language": "python",
   "name": "python3"
  },
  "language_info": {
   "codemirror_mode": {
    "name": "ipython",
    "version": 3
   },
   "file_extension": ".py",
   "mimetype": "text/x-python",
   "name": "python",
   "nbconvert_exporter": "python",
   "pygments_lexer": "ipython3",
   "version": "3.5.3"
  }
 },
 "nbformat": 4,
 "nbformat_minor": 2
}
