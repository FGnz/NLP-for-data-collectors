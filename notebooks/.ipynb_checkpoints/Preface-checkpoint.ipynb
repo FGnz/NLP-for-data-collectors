{
 "cells": [
  {
   "cell_type": "markdown",
   "metadata": {},
   "source": [
    "Over the last 30 years the development of personal computers, the world wide web, and mobile phones have led to a massive increase in the amount of information stored in digital format. This revolution did not come alone however, with it came rapid advances in our ability to manipulate, store, and understand this information, led in large part by the work of computer scientists and those in related fields. Despite the relevance of these techniques however, they remain largely unkown to the many economists, statisticians, and social scientists involved in modern data collection. \n",
    "\n",
    "The purpose of this book is to help change this. It is intended to quickly introduce those familiar with traditional data collection techniques with relevant advances in natural language processing, machine learning, and related topics. I hope it is useful to you, and I hope that if you think of ways to make it better you will share those with me.\n",
    "\n",
    "Alex Measure"
   ]
  }
 ],
 "metadata": {
  "kernelspec": {
   "display_name": "Python 3",
   "language": "python",
   "name": "python3"
  },
  "language_info": {
   "codemirror_mode": {
    "name": "ipython",
    "version": 3
   },
   "file_extension": ".py",
   "mimetype": "text/x-python",
   "name": "python",
   "nbconvert_exporter": "python",
   "pygments_lexer": "ipython3",
   "version": "3.5.3"
  }
 },
 "nbformat": 4,
 "nbformat_minor": 2
}
